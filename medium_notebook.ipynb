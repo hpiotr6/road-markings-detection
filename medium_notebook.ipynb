{
 "cells": [
  {
   "cell_type": "code",
   "execution_count": 1,
   "metadata": {},
   "outputs": [],
   "source": [
    "import matplotlib.pyplot as plt\n",
    "import numpy as np\n",
    "from sklearn.model_selection import train_test_split\n",
    "\n",
    "import torch\n",
    "import torch.nn as nn\n",
    "import torch.optim as optim\n",
    "from torch.utils.data import Dataset, DataLoader, SubsetRandomSampler, random_split\n",
    "from torch.nn import functional as F\n",
    "\n",
    "import albumentations as A\n",
    "from albumentations.pytorch import ToTensorV2\n",
    "import pandas as pd\n",
    "\n",
    "import cv2\n",
    "import os\n"
   ]
  },
  {
   "cell_type": "code",
   "execution_count": 2,
   "metadata": {},
   "outputs": [],
   "source": [
    "class ConcatenatedDataset(Dataset):\n",
    "    def __init__(\n",
    "        self,\n",
    "        annotations_file,\n",
    "        img_dir,\n",
    "        transform_positives=None,\n",
    "        transform_background=None,\n",
    "        target_transform=None,\n",
    "    ):\n",
    "        self.img_labels = pd.read_csv(annotations_file, header=None)\n",
    "        self.img_dir = img_dir\n",
    "        self.transform_positives = transform_positives\n",
    "        self.transform_background = transform_background\n",
    "        self.target_transform = target_transform\n",
    "\n",
    "    def __len__(self):\n",
    "        return len(self.img_labels)\n",
    "\n",
    "    def __getitem__(self, idx):\n",
    "        img_path = os.path.join(self.img_dir, self.img_labels.iloc[idx, 0])\n",
    "        # image = Image.open(img_path)\n",
    "        image = cv2.imread(img_path)\n",
    "\n",
    "        # By default OpenCV uses BGR color space for color images,\n",
    "        # so we need to convert the image to RGB color space.\n",
    "        image = cv2.cvtColor(image, cv2.COLOR_BGR2RGB)\n",
    "        label = self.img_labels.iloc[idx, 1]\n",
    "        if label == 0 and self.transform_background:\n",
    "            image = self.transform_background(image=image)[\"image\"]\n",
    "        if label != 0 and self.transform_positives:\n",
    "            image = self.transform_positives(image=image)[\"image\"]\n",
    "        # if self.transform:\n",
    "        #     image = self.transform(image)\n",
    "        if self.target_transform:\n",
    "            label = self.target_transform(label)\n",
    "        return image, label\n"
   ]
  },
  {
   "cell_type": "code",
   "execution_count": 3,
   "metadata": {},
   "outputs": [],
   "source": [
    "IMAGE_HEIGHT = 224\n",
    "IMAGE_WIDTH = 224\n",
    "transform = A.Compose(\n",
    "    [\n",
    "        # A.Resize(height=IMAGE_HEIGHT, width=IMAGE_WIDTH),\n",
    "        A.RandomCrop(height=IMAGE_HEIGHT, width=IMAGE_WIDTH, always_apply=True),\n",
    "        A.Rotate(limit=35, p=1.0),\n",
    "        A.ToGray(always_apply=True),\n",
    "        A.Normalize(),\n",
    "        ToTensorV2(),\n",
    "    ]\n",
    ")\n",
    "whole_dataset = ConcatenatedDataset(\n",
    "    annotations_file=\"imgs_merged/labels.csv\",\n",
    "    img_dir=\"imgs_merged\",\n",
    "    transform_background=transform,\n",
    "    transform_positives=transform,\n",
    ")\n"
   ]
  },
  {
   "cell_type": "code",
   "execution_count": 4,
   "metadata": {},
   "outputs": [],
   "source": [
    "class LeNet(torch.nn.Module):\n",
    "    def __init__(self):\n",
    "        super(LeNet, self).__init__()\n",
    "        # 1 input image channel (black & white), 6 output channels, 5x5 square convolution\n",
    "        # kernel\n",
    "        self.conv1 = torch.nn.Conv2d(3, 6, 5)\n",
    "        self.drop1 = nn.Dropout2d(p=0.5)\n",
    "        self.conv2 = torch.nn.Conv2d(6, 16, 3)\n",
    "        self.drop1 = nn.Dropout2d(p=0.5)\n",
    "\n",
    "        # an affine operation: y = Wx + b\n",
    "        self.fc1 = torch.nn.LazyLinear(120)  # 6*6 from image dimension\n",
    "        self.fc2 = torch.nn.Linear(120, 84)\n",
    "        self.fc3 = torch.nn.Linear(84, 3)\n",
    "\n",
    "    def forward(self, x):\n",
    "        # Max pooling over a (2, 2) window\n",
    "        x = F.max_pool2d(F.relu(self.conv1(x)), (2, 2))\n",
    "        # If the size is a square you can only specify a single number\n",
    "        x = F.max_pool2d(F.relu(self.conv2(x)), 2)\n",
    "\n",
    "        x = x.view(x.size(0), -1)\n",
    "\n",
    "        x = F.relu(self.fc1(x))\n",
    "\n",
    "        x = F.relu(self.fc2(x))\n",
    "\n",
    "        x = self.fc3(x)\n",
    "\n",
    "        return x\n"
   ]
  },
  {
   "cell_type": "code",
   "execution_count": 5,
   "metadata": {},
   "outputs": [],
   "source": [
    "def train_epoch(model, device, dataloader, loss_fn, optimizer):\n",
    "    train_loss, train_correct = 0.0, 0\n",
    "    model.train()\n",
    "    for images, labels in dataloader:\n",
    "\n",
    "        images, labels = images.to(device), labels.to(device)\n",
    "        images = images.float()\n",
    "        optimizer.zero_grad()\n",
    "\n",
    "        output = model(images)\n",
    "\n",
    "        loss = loss_fn(output, labels)\n",
    "        loss.backward()\n",
    "        optimizer.step()\n",
    "        train_loss += loss.item() * images.size(0)\n",
    "        scores, predictions = torch.max(output.data, 1)\n",
    "        train_correct += (predictions == labels).sum().item()\n",
    "\n",
    "    return train_loss, train_correct\n",
    "\n",
    "\n",
    "def valid_epoch(model, device, dataloader, loss_fn):\n",
    "    valid_loss, val_correct = 0.0, 0\n",
    "    model.eval()\n",
    "    for images, labels in dataloader:\n",
    "\n",
    "        images, labels = images.to(device), labels.to(device)\n",
    "        images = images.float()\n",
    "        output = model(images)\n",
    "        loss = loss_fn(output, labels)\n",
    "        valid_loss += loss.item() * images.size(0)\n",
    "        scores, predictions = torch.max(output.data, 1)\n",
    "        val_correct += (predictions == labels).sum().item()\n",
    "\n",
    "    return valid_loss, val_correct\n"
   ]
  },
  {
   "cell_type": "code",
   "execution_count": 6,
   "metadata": {},
   "outputs": [],
   "source": [
    "df = whole_dataset.img_labels\n",
    "train_ind, test_ind = train_test_split(df, stratify=df[1], test_size=0.2)\n"
   ]
  },
  {
   "cell_type": "code",
   "execution_count": 7,
   "metadata": {},
   "outputs": [],
   "source": [
    "device = torch.device(\"cuda:0\" if torch.cuda.is_available() else \"cpu\")\n",
    "torch.manual_seed(42)\n",
    "criterion = nn.CrossEntropyLoss()\n",
    "\n",
    "dataset = whole_dataset\n",
    "\n",
    "num_epochs = 20\n",
    "batch_size = 100\n"
   ]
  },
  {
   "cell_type": "code",
   "execution_count": 8,
   "metadata": {},
   "outputs": [
    {
     "name": "stderr",
     "output_type": "stream",
     "text": [
      "/Users/piotr/Documents/studia/SEM6/TWM/road-markings-detection/.venv/lib/python3.9/site-packages/torch/nn/modules/lazy.py:178: UserWarning: Lazy modules are a new feature under heavy development so changes to the API or functionality can happen at any moment.\n",
      "  warnings.warn('Lazy modules are a new feature under heavy development '\n"
     ]
    },
    {
     "name": "stdout",
     "output_type": "stream",
     "text": [
      "Epoch:1/20 AVG Training Loss:1.114 AVG Test Loss:1.318 AVG Training Acc 22.39 % AVG Test Acc 47.06 %\n",
      "Epoch:2/20 AVG Training Loss:1.376 AVG Test Loss:4.156 AVG Training Acc 44.78 % AVG Test Acc 47.06 %\n",
      "Epoch:3/20 AVG Training Loss:3.971 AVG Test Loss:0.725 AVG Training Acc 41.79 % AVG Test Acc 58.82 %\n",
      "Epoch:4/20 AVG Training Loss:0.660 AVG Test Loss:0.843 AVG Training Acc 56.72 % AVG Test Acc 76.47 %\n",
      "Epoch:5/20 AVG Training Loss:0.740 AVG Test Loss:1.229 AVG Training Acc 77.61 % AVG Test Acc 76.47 %\n",
      "Epoch:6/20 AVG Training Loss:1.063 AVG Test Loss:0.993 AVG Training Acc 77.61 % AVG Test Acc 76.47 %\n",
      "Epoch:7/20 AVG Training Loss:0.835 AVG Test Loss:0.266 AVG Training Acc 77.61 % AVG Test Acc 82.35 %\n",
      "Epoch:8/20 AVG Training Loss:0.424 AVG Test Loss:0.216 AVG Training Acc 80.60 % AVG Test Acc 82.35 %\n",
      "Epoch:9/20 AVG Training Loss:0.207 AVG Test Loss:0.090 AVG Training Acc 88.06 % AVG Test Acc 100.00 %\n",
      "Epoch:10/20 AVG Training Loss:0.196 AVG Test Loss:0.176 AVG Training Acc 97.01 % AVG Test Acc 94.12 %\n",
      "Epoch:11/20 AVG Training Loss:0.175 AVG Test Loss:0.146 AVG Training Acc 94.03 % AVG Test Acc 94.12 %\n",
      "Epoch:12/20 AVG Training Loss:0.132 AVG Test Loss:0.059 AVG Training Acc 98.51 % AVG Test Acc 100.00 %\n",
      "Epoch:13/20 AVG Training Loss:0.055 AVG Test Loss:0.022 AVG Training Acc 100.00 % AVG Test Acc 100.00 %\n",
      "Epoch:14/20 AVG Training Loss:0.039 AVG Test Loss:0.129 AVG Training Acc 100.00 % AVG Test Acc 94.12 %\n",
      "Epoch:15/20 AVG Training Loss:0.114 AVG Test Loss:0.035 AVG Training Acc 98.51 % AVG Test Acc 100.00 %\n",
      "Epoch:16/20 AVG Training Loss:0.135 AVG Test Loss:0.038 AVG Training Acc 97.01 % AVG Test Acc 100.00 %\n",
      "Epoch:17/20 AVG Training Loss:0.150 AVG Test Loss:0.146 AVG Training Acc 95.52 % AVG Test Acc 94.12 %\n",
      "Epoch:18/20 AVG Training Loss:0.045 AVG Test Loss:0.008 AVG Training Acc 98.51 % AVG Test Acc 100.00 %\n",
      "Epoch:19/20 AVG Training Loss:0.012 AVG Test Loss:0.011 AVG Training Acc 100.00 % AVG Test Acc 100.00 %\n",
      "Epoch:20/20 AVG Training Loss:0.014 AVG Test Loss:0.066 AVG Training Acc 100.00 % AVG Test Acc 94.12 %\n"
     ]
    }
   ],
   "source": [
    "train_sampler = SubsetRandomSampler(train_ind.index.to_numpy())\n",
    "test_sampler = SubsetRandomSampler(test_ind.index.to_numpy())\n",
    "train_loader = DataLoader(whole_dataset, sampler=train_sampler, batch_size=batch_size)\n",
    "test_loader = DataLoader(whole_dataset, sampler=test_sampler, batch_size=batch_size)\n",
    "\n",
    "device = torch.device(\"cuda:0\" if torch.cuda.is_available() else \"cpu\")\n",
    "\n",
    "model = LeNet()\n",
    "model.to(device)\n",
    "optimizer = optim.Adam(model.parameters(), lr=0.002)\n",
    "\n",
    "history = {\"train_loss\": [], \"test_loss\": [], \"train_acc\": [], \"test_acc\": []}\n",
    "\n",
    "for epoch in range(num_epochs):\n",
    "    train_loss, train_correct = train_epoch(\n",
    "        model, device, train_loader, criterion, optimizer\n",
    "    )\n",
    "    test_loss, test_correct = valid_epoch(model, device, test_loader, criterion)\n",
    "\n",
    "    train_loss = train_loss / len(train_loader.sampler)\n",
    "    train_acc = train_correct / len(train_loader.sampler) * 100\n",
    "    test_loss = test_loss / len(test_loader.sampler)\n",
    "    test_acc = test_correct / len(test_loader.sampler) * 100\n",
    "\n",
    "    print(\n",
    "        \"Epoch:{}/{} AVG Training Loss:{:.3f} AVG Test Loss:{:.3f} AVG Training Acc {:.2f} % AVG Test Acc {:.2f} %\".format(\n",
    "            epoch + 1, num_epochs, train_loss, test_loss, train_acc, test_acc\n",
    "        )\n",
    "    )\n",
    "    history[\"train_loss\"].append(train_loss)\n",
    "    history[\"test_loss\"].append(test_loss)\n",
    "    history[\"train_acc\"].append(train_acc)\n",
    "    history[\"test_acc\"].append(test_acc)\n"
   ]
  },
  {
   "cell_type": "code",
   "execution_count": 9,
   "metadata": {},
   "outputs": [],
   "source": [
    "classes = (\"T-shirt/top\", \"Trouser\", \"Pullover\")\n",
    "\n",
    "\n",
    "def matplotlib_imshow(img, one_channel=False):\n",
    "    if one_channel:\n",
    "        img = img.mean(dim=0)\n",
    "    # img = img / 2 + 0.5     # unnormalize\n",
    "    npimg = img.numpy()\n",
    "    if one_channel:\n",
    "        plt.imshow(npimg, cmap=\"Greys\")\n",
    "    else:\n",
    "        plt.imshow(np.transpose(npimg, (1, 2, 0)))\n",
    "\n",
    "\n",
    "def images_to_probs(net, images):\n",
    "    \"\"\"\n",
    "    Generates predictions and corresponding probabilities from a trained\n",
    "    network and a list of images\n",
    "    \"\"\"\n",
    "    output = net(images)\n",
    "    # convert output probabilities to predicted class\n",
    "    _, preds_tensor = torch.max(output, 1)\n",
    "    preds = np.squeeze(preds_tensor.numpy())\n",
    "    return preds, [F.softmax(el, dim=0)[i].item() for i, el in zip(preds, output)]\n",
    "\n",
    "\n",
    "def plot_classes_preds(net, images, labels):\n",
    "    \"\"\"\n",
    "    Generates matplotlib Figure using a trained network, along with images\n",
    "    and labels from a batch, that shows the network's top prediction along\n",
    "    with its probability, alongside the actual label, coloring this\n",
    "    information based on whether the prediction was correct or not.\n",
    "    Uses the \"images_to_probs\" function.\n",
    "    \"\"\"\n",
    "    preds, probs = images_to_probs(net, images)\n",
    "    # plot the images in the batch, along with predicted and true labels\n",
    "    fig = plt.figure(figsize=(12, 48))\n",
    "    for idx in np.arange(4):\n",
    "        ax = fig.add_subplot(1, 4, idx + 1, xticks=[], yticks=[])\n",
    "        matplotlib_imshow(images[idx], one_channel=True)\n",
    "        ax.set_title(\n",
    "            \"{0}, {1:.1f}%\\n(label: {2})\".format(\n",
    "                classes[preds[idx]], probs[idx] * 100.0, classes[labels[idx]]\n",
    "            ),\n",
    "            color=(\"green\" if preds[idx] == labels[idx].item() else \"red\"),\n",
    "        )\n",
    "    return fig\n"
   ]
  },
  {
   "cell_type": "code",
   "execution_count": 10,
   "metadata": {},
   "outputs": [
    {
     "name": "stderr",
     "output_type": "stream",
     "text": [
      "Clipping input data to the valid range for imshow with RGB data ([0..1] for floats or [0..255] for integers).\n"
     ]
    },
    {
     "data": {
      "image/png": "[encoded data removed]",
      "text/plain": [
       "<Figure size 432x288 with 1 Axes>"
      ]
     },
     "metadata": {
      "needs_background": "light"
     },
     "output_type": "display_data"
    }
   ],
   "source": [
    "matplotlib_imshow(dataset[10][0])\n",
    "\n",
    "# dataset[0][0]"
   ]
  },
  {
   "cell_type": "code",
   "execution_count": null,
   "metadata": {},
   "outputs": [],
   "source": []
  }
 ],
 "metadata": {
  "interpreter": {
   "hash": "92817c6158c1804639fa34720e1636a07923a028e1d05ddaa4c830e80be69f5c"
  },
  "kernelspec": {
   "display_name": "Python 3.9.12 ('.venv': poetry)",
   "language": "python",
   "name": "python3"
  },
  "language_info": {
   "codemirror_mode": {
    "name": "ipython",
    "version": 3
   },
   "file_extension": ".py",
   "mimetype": "text/x-python",
   "name": "python",
   "nbconvert_exporter": "python",
   "pygments_lexer": "ipython3",
   "version": "3.9.13"
  },
  "orig_nbformat": 4
 },
 "nbformat": 4,
 "nbformat_minor": 2
}
